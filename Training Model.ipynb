{
 "cells": [
  {
   "cell_type": "code",
   "execution_count": 1,
   "id": "640ae345",
   "metadata": {},
   "outputs": [],
   "source": [
    "# Import Required libraries\n",
    "import pandas as pd\n",
    "import numpy as np\n",
    "import seaborn as sns\n",
    "import matplotlib.pyplot as plt\n",
    "%matplotlib inline\n",
    "\n",
    "import warnings\n",
    "warnings.filterwarnings('ignore')"
   ]
  },
  {
   "cell_type": "code",
   "execution_count": 2,
   "id": "d65143e4",
   "metadata": {},
   "outputs": [],
   "source": [
    "# Load dataaset\n",
    "df = pd.read_csv(\"insuranceFraud.csv\")"
   ]
  },
  {
   "cell_type": "code",
   "execution_count": 3,
   "id": "5257a818",
   "metadata": {},
   "outputs": [],
   "source": [
    "pd.set_option('display.max_columns',None)"
   ]
  },
  {
   "cell_type": "code",
   "execution_count": 4,
   "id": "01134a9b",
   "metadata": {},
   "outputs": [
    {
     "data": {
      "text/html": [
       "<div>\n",
       "<style scoped>\n",
       "    .dataframe tbody tr th:only-of-type {\n",
       "        vertical-align: middle;\n",
       "    }\n",
       "\n",
       "    .dataframe tbody tr th {\n",
       "        vertical-align: top;\n",
       "    }\n",
       "\n",
       "    .dataframe thead th {\n",
       "        text-align: right;\n",
       "    }\n",
       "</style>\n",
       "<table border=\"1\" class=\"dataframe\">\n",
       "  <thead>\n",
       "    <tr style=\"text-align: right;\">\n",
       "      <th></th>\n",
       "      <th>months_as_customer</th>\n",
       "      <th>policy_deductable</th>\n",
       "      <th>umbrella_limit</th>\n",
       "      <th>capital-gains</th>\n",
       "      <th>capital-loss</th>\n",
       "      <th>incident_hour_of_the_day</th>\n",
       "      <th>number_of_vehicles_involved</th>\n",
       "      <th>bodily_injuries</th>\n",
       "      <th>witnesses</th>\n",
       "      <th>injury_claim</th>\n",
       "      <th>property_claim</th>\n",
       "      <th>vehicle_claim</th>\n",
       "      <th>policy_annual_premium</th>\n",
       "      <th>insured_education_level</th>\n",
       "      <th>insured_sex</th>\n",
       "      <th>insured_occupation</th>\n",
       "      <th>insured_relationship</th>\n",
       "      <th>incident_type</th>\n",
       "      <th>collision_type</th>\n",
       "      <th>incident_severity</th>\n",
       "      <th>authorities_contacted</th>\n",
       "      <th>property_damage</th>\n",
       "      <th>police_report_available</th>\n",
       "      <th>fraud_reported</th>\n",
       "    </tr>\n",
       "  </thead>\n",
       "  <tbody>\n",
       "    <tr>\n",
       "      <th>0</th>\n",
       "      <td>328</td>\n",
       "      <td>1000</td>\n",
       "      <td>0</td>\n",
       "      <td>53300</td>\n",
       "      <td>0</td>\n",
       "      <td>5</td>\n",
       "      <td>1</td>\n",
       "      <td>1</td>\n",
       "      <td>2</td>\n",
       "      <td>6510</td>\n",
       "      <td>13020</td>\n",
       "      <td>52080</td>\n",
       "      <td>1406.91</td>\n",
       "      <td>MD</td>\n",
       "      <td>MALE</td>\n",
       "      <td>craft-repair</td>\n",
       "      <td>husband</td>\n",
       "      <td>Single Vehicle Collision</td>\n",
       "      <td>Side Collision</td>\n",
       "      <td>Major Damage</td>\n",
       "      <td>Police</td>\n",
       "      <td>YES</td>\n",
       "      <td>YES</td>\n",
       "      <td>Y</td>\n",
       "    </tr>\n",
       "    <tr>\n",
       "      <th>1</th>\n",
       "      <td>228</td>\n",
       "      <td>2000</td>\n",
       "      <td>5000000</td>\n",
       "      <td>0</td>\n",
       "      <td>0</td>\n",
       "      <td>8</td>\n",
       "      <td>1</td>\n",
       "      <td>0</td>\n",
       "      <td>0</td>\n",
       "      <td>780</td>\n",
       "      <td>780</td>\n",
       "      <td>3510</td>\n",
       "      <td>1197.22</td>\n",
       "      <td>MD</td>\n",
       "      <td>MALE</td>\n",
       "      <td>machine-op-inspct</td>\n",
       "      <td>other-relative</td>\n",
       "      <td>Vehicle Theft</td>\n",
       "      <td>?</td>\n",
       "      <td>Minor Damage</td>\n",
       "      <td>Police</td>\n",
       "      <td>?</td>\n",
       "      <td>?</td>\n",
       "      <td>Y</td>\n",
       "    </tr>\n",
       "    <tr>\n",
       "      <th>2</th>\n",
       "      <td>134</td>\n",
       "      <td>2000</td>\n",
       "      <td>5000000</td>\n",
       "      <td>35100</td>\n",
       "      <td>0</td>\n",
       "      <td>7</td>\n",
       "      <td>3</td>\n",
       "      <td>2</td>\n",
       "      <td>3</td>\n",
       "      <td>7700</td>\n",
       "      <td>3850</td>\n",
       "      <td>23100</td>\n",
       "      <td>1413.14</td>\n",
       "      <td>PhD</td>\n",
       "      <td>FEMALE</td>\n",
       "      <td>sales</td>\n",
       "      <td>own-child</td>\n",
       "      <td>Multi-vehicle Collision</td>\n",
       "      <td>Rear Collision</td>\n",
       "      <td>Minor Damage</td>\n",
       "      <td>Police</td>\n",
       "      <td>NO</td>\n",
       "      <td>NO</td>\n",
       "      <td>N</td>\n",
       "    </tr>\n",
       "    <tr>\n",
       "      <th>3</th>\n",
       "      <td>256</td>\n",
       "      <td>2000</td>\n",
       "      <td>6000000</td>\n",
       "      <td>48900</td>\n",
       "      <td>-62400</td>\n",
       "      <td>5</td>\n",
       "      <td>1</td>\n",
       "      <td>1</td>\n",
       "      <td>2</td>\n",
       "      <td>6340</td>\n",
       "      <td>6340</td>\n",
       "      <td>50720</td>\n",
       "      <td>1415.74</td>\n",
       "      <td>PhD</td>\n",
       "      <td>FEMALE</td>\n",
       "      <td>armed-forces</td>\n",
       "      <td>unmarried</td>\n",
       "      <td>Single Vehicle Collision</td>\n",
       "      <td>Front Collision</td>\n",
       "      <td>Major Damage</td>\n",
       "      <td>Police</td>\n",
       "      <td>?</td>\n",
       "      <td>NO</td>\n",
       "      <td>Y</td>\n",
       "    </tr>\n",
       "    <tr>\n",
       "      <th>4</th>\n",
       "      <td>228</td>\n",
       "      <td>1000</td>\n",
       "      <td>6000000</td>\n",
       "      <td>66000</td>\n",
       "      <td>-46000</td>\n",
       "      <td>20</td>\n",
       "      <td>1</td>\n",
       "      <td>0</td>\n",
       "      <td>1</td>\n",
       "      <td>1300</td>\n",
       "      <td>650</td>\n",
       "      <td>4550</td>\n",
       "      <td>1583.91</td>\n",
       "      <td>Associate</td>\n",
       "      <td>MALE</td>\n",
       "      <td>sales</td>\n",
       "      <td>unmarried</td>\n",
       "      <td>Vehicle Theft</td>\n",
       "      <td>?</td>\n",
       "      <td>Minor Damage</td>\n",
       "      <td>None</td>\n",
       "      <td>NO</td>\n",
       "      <td>NO</td>\n",
       "      <td>N</td>\n",
       "    </tr>\n",
       "  </tbody>\n",
       "</table>\n",
       "</div>"
      ],
      "text/plain": [
       "   months_as_customer  policy_deductable  umbrella_limit  capital-gains  \\\n",
       "0                 328               1000               0          53300   \n",
       "1                 228               2000         5000000              0   \n",
       "2                 134               2000         5000000          35100   \n",
       "3                 256               2000         6000000          48900   \n",
       "4                 228               1000         6000000          66000   \n",
       "\n",
       "   capital-loss  incident_hour_of_the_day  number_of_vehicles_involved  \\\n",
       "0             0                         5                            1   \n",
       "1             0                         8                            1   \n",
       "2             0                         7                            3   \n",
       "3        -62400                         5                            1   \n",
       "4        -46000                        20                            1   \n",
       "\n",
       "   bodily_injuries  witnesses  injury_claim  property_claim  vehicle_claim  \\\n",
       "0                1          2          6510           13020          52080   \n",
       "1                0          0           780             780           3510   \n",
       "2                2          3          7700            3850          23100   \n",
       "3                1          2          6340            6340          50720   \n",
       "4                0          1          1300             650           4550   \n",
       "\n",
       "   policy_annual_premium insured_education_level insured_sex  \\\n",
       "0                1406.91                      MD        MALE   \n",
       "1                1197.22                      MD        MALE   \n",
       "2                1413.14                     PhD      FEMALE   \n",
       "3                1415.74                     PhD      FEMALE   \n",
       "4                1583.91               Associate        MALE   \n",
       "\n",
       "  insured_occupation insured_relationship             incident_type  \\\n",
       "0       craft-repair              husband  Single Vehicle Collision   \n",
       "1  machine-op-inspct       other-relative             Vehicle Theft   \n",
       "2              sales            own-child   Multi-vehicle Collision   \n",
       "3       armed-forces            unmarried  Single Vehicle Collision   \n",
       "4              sales            unmarried             Vehicle Theft   \n",
       "\n",
       "    collision_type incident_severity authorities_contacted property_damage  \\\n",
       "0   Side Collision      Major Damage                Police             YES   \n",
       "1                ?      Minor Damage                Police               ?   \n",
       "2   Rear Collision      Minor Damage                Police              NO   \n",
       "3  Front Collision      Major Damage                Police               ?   \n",
       "4                ?      Minor Damage                  None              NO   \n",
       "\n",
       "  police_report_available fraud_reported  \n",
       "0                     YES              Y  \n",
       "1                       ?              Y  \n",
       "2                      NO              N  \n",
       "3                      NO              Y  \n",
       "4                      NO              N  "
      ]
     },
     "execution_count": 4,
     "metadata": {},
     "output_type": "execute_result"
    }
   ],
   "source": [
    "# Dataset Top rows\n",
    "\n",
    "df.head()"
   ]
  },
  {
   "cell_type": "code",
   "execution_count": 5,
   "id": "6ecb9153",
   "metadata": {},
   "outputs": [
    {
     "data": {
      "text/html": [
       "<div>\n",
       "<style scoped>\n",
       "    .dataframe tbody tr th:only-of-type {\n",
       "        vertical-align: middle;\n",
       "    }\n",
       "\n",
       "    .dataframe tbody tr th {\n",
       "        vertical-align: top;\n",
       "    }\n",
       "\n",
       "    .dataframe thead th {\n",
       "        text-align: right;\n",
       "    }\n",
       "</style>\n",
       "<table border=\"1\" class=\"dataframe\">\n",
       "  <thead>\n",
       "    <tr style=\"text-align: right;\">\n",
       "      <th></th>\n",
       "      <th>months_as_customer</th>\n",
       "      <th>policy_deductable</th>\n",
       "      <th>umbrella_limit</th>\n",
       "      <th>capital-gains</th>\n",
       "      <th>capital-loss</th>\n",
       "      <th>incident_hour_of_the_day</th>\n",
       "      <th>number_of_vehicles_involved</th>\n",
       "      <th>bodily_injuries</th>\n",
       "      <th>witnesses</th>\n",
       "      <th>injury_claim</th>\n",
       "      <th>property_claim</th>\n",
       "      <th>vehicle_claim</th>\n",
       "      <th>policy_annual_premium</th>\n",
       "      <th>insured_education_level</th>\n",
       "      <th>insured_sex</th>\n",
       "      <th>insured_occupation</th>\n",
       "      <th>insured_relationship</th>\n",
       "      <th>incident_type</th>\n",
       "      <th>collision_type</th>\n",
       "      <th>incident_severity</th>\n",
       "      <th>authorities_contacted</th>\n",
       "      <th>property_damage</th>\n",
       "      <th>police_report_available</th>\n",
       "      <th>fraud_reported</th>\n",
       "    </tr>\n",
       "  </thead>\n",
       "  <tbody>\n",
       "    <tr>\n",
       "      <th>995</th>\n",
       "      <td>3</td>\n",
       "      <td>1000</td>\n",
       "      <td>0</td>\n",
       "      <td>0</td>\n",
       "      <td>0</td>\n",
       "      <td>20</td>\n",
       "      <td>1</td>\n",
       "      <td>0</td>\n",
       "      <td>1</td>\n",
       "      <td>17440</td>\n",
       "      <td>8720</td>\n",
       "      <td>61040</td>\n",
       "      <td>1310.80</td>\n",
       "      <td>Masters</td>\n",
       "      <td>FEMALE</td>\n",
       "      <td>craft-repair</td>\n",
       "      <td>unmarried</td>\n",
       "      <td>Single Vehicle Collision</td>\n",
       "      <td>Front Collision</td>\n",
       "      <td>Minor Damage</td>\n",
       "      <td>Fire</td>\n",
       "      <td>YES</td>\n",
       "      <td>?</td>\n",
       "      <td>N</td>\n",
       "    </tr>\n",
       "    <tr>\n",
       "      <th>996</th>\n",
       "      <td>285</td>\n",
       "      <td>1000</td>\n",
       "      <td>0</td>\n",
       "      <td>70900</td>\n",
       "      <td>0</td>\n",
       "      <td>23</td>\n",
       "      <td>1</td>\n",
       "      <td>2</td>\n",
       "      <td>3</td>\n",
       "      <td>18080</td>\n",
       "      <td>18080</td>\n",
       "      <td>72320</td>\n",
       "      <td>1436.79</td>\n",
       "      <td>PhD</td>\n",
       "      <td>FEMALE</td>\n",
       "      <td>prof-specialty</td>\n",
       "      <td>wife</td>\n",
       "      <td>Single Vehicle Collision</td>\n",
       "      <td>Rear Collision</td>\n",
       "      <td>Major Damage</td>\n",
       "      <td>Fire</td>\n",
       "      <td>YES</td>\n",
       "      <td>?</td>\n",
       "      <td>N</td>\n",
       "    </tr>\n",
       "    <tr>\n",
       "      <th>997</th>\n",
       "      <td>130</td>\n",
       "      <td>500</td>\n",
       "      <td>3000000</td>\n",
       "      <td>35100</td>\n",
       "      <td>0</td>\n",
       "      <td>4</td>\n",
       "      <td>3</td>\n",
       "      <td>2</td>\n",
       "      <td>3</td>\n",
       "      <td>7500</td>\n",
       "      <td>7500</td>\n",
       "      <td>52500</td>\n",
       "      <td>1383.49</td>\n",
       "      <td>Masters</td>\n",
       "      <td>FEMALE</td>\n",
       "      <td>armed-forces</td>\n",
       "      <td>other-relative</td>\n",
       "      <td>Multi-vehicle Collision</td>\n",
       "      <td>Side Collision</td>\n",
       "      <td>Minor Damage</td>\n",
       "      <td>Police</td>\n",
       "      <td>?</td>\n",
       "      <td>YES</td>\n",
       "      <td>N</td>\n",
       "    </tr>\n",
       "    <tr>\n",
       "      <th>998</th>\n",
       "      <td>458</td>\n",
       "      <td>2000</td>\n",
       "      <td>5000000</td>\n",
       "      <td>0</td>\n",
       "      <td>0</td>\n",
       "      <td>2</td>\n",
       "      <td>1</td>\n",
       "      <td>0</td>\n",
       "      <td>1</td>\n",
       "      <td>5220</td>\n",
       "      <td>5220</td>\n",
       "      <td>36540</td>\n",
       "      <td>1356.92</td>\n",
       "      <td>Associate</td>\n",
       "      <td>MALE</td>\n",
       "      <td>handlers-cleaners</td>\n",
       "      <td>wife</td>\n",
       "      <td>Single Vehicle Collision</td>\n",
       "      <td>Rear Collision</td>\n",
       "      <td>Major Damage</td>\n",
       "      <td>Other</td>\n",
       "      <td>?</td>\n",
       "      <td>YES</td>\n",
       "      <td>N</td>\n",
       "    </tr>\n",
       "    <tr>\n",
       "      <th>999</th>\n",
       "      <td>456</td>\n",
       "      <td>1000</td>\n",
       "      <td>0</td>\n",
       "      <td>0</td>\n",
       "      <td>0</td>\n",
       "      <td>6</td>\n",
       "      <td>1</td>\n",
       "      <td>0</td>\n",
       "      <td>3</td>\n",
       "      <td>460</td>\n",
       "      <td>920</td>\n",
       "      <td>3680</td>\n",
       "      <td>766.19</td>\n",
       "      <td>Associate</td>\n",
       "      <td>FEMALE</td>\n",
       "      <td>sales</td>\n",
       "      <td>husband</td>\n",
       "      <td>Parked Car</td>\n",
       "      <td>?</td>\n",
       "      <td>Minor Damage</td>\n",
       "      <td>Police</td>\n",
       "      <td>?</td>\n",
       "      <td>?</td>\n",
       "      <td>N</td>\n",
       "    </tr>\n",
       "  </tbody>\n",
       "</table>\n",
       "</div>"
      ],
      "text/plain": [
       "     months_as_customer  policy_deductable  umbrella_limit  capital-gains  \\\n",
       "995                   3               1000               0              0   \n",
       "996                 285               1000               0          70900   \n",
       "997                 130                500         3000000          35100   \n",
       "998                 458               2000         5000000              0   \n",
       "999                 456               1000               0              0   \n",
       "\n",
       "     capital-loss  incident_hour_of_the_day  number_of_vehicles_involved  \\\n",
       "995             0                        20                            1   \n",
       "996             0                        23                            1   \n",
       "997             0                         4                            3   \n",
       "998             0                         2                            1   \n",
       "999             0                         6                            1   \n",
       "\n",
       "     bodily_injuries  witnesses  injury_claim  property_claim  vehicle_claim  \\\n",
       "995                0          1         17440            8720          61040   \n",
       "996                2          3         18080           18080          72320   \n",
       "997                2          3          7500            7500          52500   \n",
       "998                0          1          5220            5220          36540   \n",
       "999                0          3           460             920           3680   \n",
       "\n",
       "     policy_annual_premium insured_education_level insured_sex  \\\n",
       "995                1310.80                 Masters      FEMALE   \n",
       "996                1436.79                     PhD      FEMALE   \n",
       "997                1383.49                 Masters      FEMALE   \n",
       "998                1356.92               Associate        MALE   \n",
       "999                 766.19               Associate      FEMALE   \n",
       "\n",
       "    insured_occupation insured_relationship             incident_type  \\\n",
       "995       craft-repair            unmarried  Single Vehicle Collision   \n",
       "996     prof-specialty                 wife  Single Vehicle Collision   \n",
       "997       armed-forces       other-relative   Multi-vehicle Collision   \n",
       "998  handlers-cleaners                 wife  Single Vehicle Collision   \n",
       "999              sales              husband                Parked Car   \n",
       "\n",
       "      collision_type incident_severity authorities_contacted property_damage  \\\n",
       "995  Front Collision      Minor Damage                  Fire             YES   \n",
       "996   Rear Collision      Major Damage                  Fire             YES   \n",
       "997   Side Collision      Minor Damage                Police               ?   \n",
       "998   Rear Collision      Major Damage                 Other               ?   \n",
       "999                ?      Minor Damage                Police               ?   \n",
       "\n",
       "    police_report_available fraud_reported  \n",
       "995                       ?              N  \n",
       "996                       ?              N  \n",
       "997                     YES              N  \n",
       "998                     YES              N  \n",
       "999                       ?              N  "
      ]
     },
     "execution_count": 5,
     "metadata": {},
     "output_type": "execute_result"
    }
   ],
   "source": [
    "# Dataset Last Rows\n",
    "df.tail()"
   ]
  },
  {
   "cell_type": "markdown",
   "id": "82470755",
   "metadata": {},
   "source": [
    "# Missing Values"
   ]
  },
  {
   "cell_type": "code",
   "execution_count": 120,
   "id": "25b0ca8d",
   "metadata": {},
   "outputs": [
    {
     "data": {
      "text/plain": [
       "((1000, 23), (1000,))"
      ]
     },
     "execution_count": 120,
     "metadata": {},
     "output_type": "execute_result"
    }
   ],
   "source": [
    "X.shape ,Y.shape"
   ]
  },
  {
   "cell_type": "code",
   "execution_count": 121,
   "id": "243df4dd",
   "metadata": {},
   "outputs": [],
   "source": [
    "catg_features=[col for col in X.columns if X[col].dtypes=='object']\n",
    "cont_features=[col for col in X.columns if X[col].dtypes!='object']"
   ]
  },
  {
   "cell_type": "code",
   "execution_count": 122,
   "id": "29fedd0c",
   "metadata": {},
   "outputs": [
    {
     "data": {
      "text/plain": [
       "['insured_education_level',\n",
       " 'insured_sex',\n",
       " 'insured_occupation',\n",
       " 'insured_relationship',\n",
       " 'incident_type',\n",
       " 'collision_type',\n",
       " 'incident_severity',\n",
       " 'authorities_contacted',\n",
       " 'property_damage',\n",
       " 'police_report_available']"
      ]
     },
     "execution_count": 122,
     "metadata": {},
     "output_type": "execute_result"
    }
   ],
   "source": [
    "catg_features"
   ]
  },
  {
   "cell_type": "code",
   "execution_count": 123,
   "id": "a1c579bd",
   "metadata": {},
   "outputs": [
    {
     "data": {
      "text/plain": [
       "['months_as_customer',\n",
       " 'policy_deductable',\n",
       " 'umbrella_limit',\n",
       " 'capital-gains',\n",
       " 'capital-loss',\n",
       " 'incident_hour_of_the_day',\n",
       " 'number_of_vehicles_involved',\n",
       " 'bodily_injuries',\n",
       " 'witnesses',\n",
       " 'injury_claim',\n",
       " 'property_claim',\n",
       " 'vehicle_claim',\n",
       " 'policy_annual_premium']"
      ]
     },
     "execution_count": 123,
     "metadata": {},
     "output_type": "execute_result"
    }
   ],
   "source": [
    "cont_features"
   ]
  },
  {
   "cell_type": "code",
   "execution_count": 124,
   "id": "40d5deff",
   "metadata": {},
   "outputs": [
    {
     "data": {
      "text/plain": [
       "23"
      ]
     },
     "execution_count": 124,
     "metadata": {},
     "output_type": "execute_result"
    }
   ],
   "source": [
    "len(catg_features) + len(cont_features)"
   ]
  },
  {
   "cell_type": "markdown",
   "id": "95ffab60",
   "metadata": {},
   "source": [
    "# Continuous Fetaures"
   ]
  },
  {
   "cell_type": "markdown",
   "id": "3e16544b",
   "metadata": {},
   "source": [
    "# Remaining catrgorical are Nominal, Lets encode them"
   ]
  },
  {
   "cell_type": "code",
   "execution_count": 129,
   "id": "bf049a95",
   "metadata": {},
   "outputs": [],
   "source": [
    "X=pd.get_dummies(X,drop_first=True)"
   ]
  },
  {
   "cell_type": "code",
   "execution_count": 130,
   "id": "2908d367",
   "metadata": {},
   "outputs": [
    {
     "data": {
      "text/plain": [
       "((1000, 52), (1000,))"
      ]
     },
     "execution_count": 130,
     "metadata": {},
     "output_type": "execute_result"
    }
   ],
   "source": [
    "X.shape  , Y.shape"
   ]
  },
  {
   "cell_type": "markdown",
   "id": "6f376739",
   "metadata": {},
   "source": [
    "# Balancing Data:  SMOTE / Over Sampling"
   ]
  },
  {
   "cell_type": "code",
   "execution_count": 131,
   "id": "dcea6ca1",
   "metadata": {},
   "outputs": [],
   "source": [
    "from imblearn.over_sampling import SMOTE\n",
    "sm=SMOTE()\n",
    "x,y=sm.fit_resample(X,Y)"
   ]
  },
  {
   "cell_type": "code",
   "execution_count": 132,
   "id": "b7e88cfe",
   "metadata": {},
   "outputs": [
    {
     "data": {
      "text/plain": [
       "((1506, 52), (1506,))"
      ]
     },
     "execution_count": 132,
     "metadata": {},
     "output_type": "execute_result"
    }
   ],
   "source": [
    "x.shape , y.shape"
   ]
  },
  {
   "cell_type": "code",
   "execution_count": 133,
   "id": "0b178eee",
   "metadata": {},
   "outputs": [
    {
     "data": {
      "text/plain": [
       "1    50.0 %\n",
       "0    50.0 %\n",
       "Name: Target, dtype: object"
      ]
     },
     "execution_count": 133,
     "metadata": {},
     "output_type": "execute_result"
    }
   ],
   "source": [
    "round(y.value_counts(normalize=True) * 100, 2).astype('str') + ' %'"
   ]
  },
  {
   "cell_type": "code",
   "execution_count": 134,
   "id": "ade0558c",
   "metadata": {},
   "outputs": [],
   "source": [
    "x.to_csv(\"encoded-dataset.csv\")"
   ]
  },
  {
   "cell_type": "markdown",
   "id": "189289bf",
   "metadata": {},
   "source": [
    "# Macine Learning"
   ]
  },
  {
   "cell_type": "code",
   "execution_count": 135,
   "id": "d5bae8e3",
   "metadata": {},
   "outputs": [],
   "source": [
    "from sklearn.model_selection import train_test_split\n",
    "from sklearn.linear_model import LogisticRegression\n",
    "from sklearn.metrics import accuracy_score,confusion_matrix,classification_report,f1_score"
   ]
  },
  {
   "cell_type": "code",
   "execution_count": 136,
   "id": "60b51913",
   "metadata": {},
   "outputs": [
    {
     "name": "stdout",
     "output_type": "stream",
     "text": [
      "Best accuracy is  0.6305309734513275 on Random State = 172\n"
     ]
    }
   ],
   "source": [
    "# FInd best Random_state\n",
    "\n",
    "maxaccu=0\n",
    "maxRS=0\n",
    "\n",
    "for i in range(0,200):\n",
    "    x_train,x_test,y_train,y_test= train_test_split(x,y,random_state=i,test_size=.30)\n",
    "    LR= LogisticRegression()\n",
    "    LR.fit(x_train,y_train)\n",
    "    pred= LR.predict(x_test)\n",
    "    acc=accuracy_score(y_test,pred)\n",
    "    if acc>maxaccu:\n",
    "        maxaccu=acc\n",
    "        maxRS=i\n",
    "print(\"Best accuracy is \",maxaccu,\"on Random State =\",maxRS)\n",
    "    "
   ]
  },
  {
   "cell_type": "code",
   "execution_count": 137,
   "id": "0c56ca69",
   "metadata": {},
   "outputs": [],
   "source": [
    "# Use, Random state= 8"
   ]
  },
  {
   "cell_type": "code",
   "execution_count": 138,
   "id": "57bd57f5",
   "metadata": {},
   "outputs": [],
   "source": [
    "x_train,x_test,y_train,y_test= train_test_split(x,y,random_state=8,test_size=.3)"
   ]
  },
  {
   "cell_type": "code",
   "execution_count": 139,
   "id": "70af5b17",
   "metadata": {},
   "outputs": [],
   "source": [
    "from sklearn.linear_model import LogisticRegression\n",
    "from sklearn.tree import DecisionTreeClassifier\n",
    "from sklearn.svm import SVC\n",
    "from sklearn.neighbors import KNeighborsClassifier\n",
    "from sklearn.ensemble import RandomForestClassifier\n",
    "from xgboost import XGBClassifier\n",
    "from sklearn.linear_model import SGDClassifier\n",
    "from sklearn.ensemble import BaggingClassifier\n",
    "from sklearn.ensemble import AdaBoostClassifier\n",
    "from sklearn.ensemble import GradientBoostingClassifier"
   ]
  },
  {
   "cell_type": "code",
   "execution_count": 158,
   "id": "7505dc4f",
   "metadata": {},
   "outputs": [],
   "source": [
    "LR_model= LogisticRegression()\n",
    "DT_model= DecisionTreeClassifier()\n",
    "SV_model= SVC()\n",
    "KNR_model= KNeighborsClassifier()\n",
    "XGB_model= XGBClassifier()\n",
    "SGH_model= SGDClassifier()\n",
    "Bag_model=BaggingClassifier()\n",
    "\n",
    "\n",
    "model=[LR_model,DT_model,SV_model,KNR_model,XGB_model,SGH_model,Bag_model ]"
   ]
  },
  {
   "cell_type": "code",
   "execution_count": 159,
   "id": "d544a1a9",
   "metadata": {},
   "outputs": [
    {
     "name": "stdout",
     "output_type": "stream",
     "text": [
      "Confusion Matrix of  LogisticRegression()  is \n",
      " [[131 118]\n",
      " [ 65 138]]\n",
      "Confusion Matrix of  DecisionTreeClassifier()  is \n",
      " [[204  45]\n",
      " [ 38 165]]\n",
      "Confusion Matrix of  SVC()  is \n",
      " [[  0 249]\n",
      " [  0 203]]\n",
      "Confusion Matrix of  KNeighborsClassifier()  is \n",
      " [[145 104]\n",
      " [ 36 167]]\n",
      "Confusion Matrix of  XGBClassifier(base_score=0.5, booster='gbtree', callbacks=None,\n",
      "              colsample_bylevel=1, colsample_bynode=1, colsample_bytree=1,\n",
      "              early_stopping_rounds=None, enable_categorical=False,\n",
      "              eval_metric=None, gamma=0, gpu_id=-1, grow_policy='depthwise',\n",
      "              importance_type=None, interaction_constraints='',\n",
      "              learning_rate=0.300000012, max_bin=256, max_cat_to_onehot=4,\n",
      "              max_delta_step=0, max_depth=6, max_leaves=0, min_child_weight=1,\n",
      "              missing=nan, monotone_constraints='()', n_estimators=100,\n",
      "              n_jobs=0, num_parallel_tree=1, predictor='auto', random_state=0,\n",
      "              reg_alpha=0, reg_lambda=1, ...)  is \n",
      " [[222  27]\n",
      " [ 29 174]]\n",
      "Confusion Matrix of  SGDClassifier()  is \n",
      " [[ 80 169]\n",
      " [ 36 167]]\n",
      "Confusion Matrix of  BaggingClassifier()  is \n",
      " [[226  23]\n",
      " [ 35 168]]\n"
     ]
    }
   ],
   "source": [
    "accuracy=[]\n",
    "f1=[]\n",
    "\n",
    "for m in model:\n",
    "    m.fit(x_train,y_train)\n",
    "    m.score(x_train,y_train)\n",
    "    pred= m.predict(x_test)\n",
    "    accuracy.append(round(accuracy_score(y_test,pred) * 100, 2))\n",
    "    f1.append(round(f1_score(y_test,pred), 2))\n",
    "    #print('Accuracy_Score of ',m, 'is', accuracy_score(y_test,pred)*100)\n",
    "    #print(\"F1 SCore                \", f1_score(y_test,pred)*100)\n",
    "    print('Confusion Matrix of ',m,' is \\n', confusion_matrix(y_test,pred) )\n",
    "    #print(classification_report(y_test,pred))\n",
    "    #print('*'*50)"
   ]
  },
  {
   "cell_type": "code",
   "execution_count": 160,
   "id": "b388fdec",
   "metadata": {},
   "outputs": [
    {
     "data": {
      "text/html": [
       "<div>\n",
       "<style scoped>\n",
       "    .dataframe tbody tr th:only-of-type {\n",
       "        vertical-align: middle;\n",
       "    }\n",
       "\n",
       "    .dataframe tbody tr th {\n",
       "        vertical-align: top;\n",
       "    }\n",
       "\n",
       "    .dataframe thead th {\n",
       "        text-align: right;\n",
       "    }\n",
       "</style>\n",
       "<table border=\"1\" class=\"dataframe\">\n",
       "  <thead>\n",
       "    <tr style=\"text-align: right;\">\n",
       "      <th></th>\n",
       "      <th>Model</th>\n",
       "      <th>Accuracy</th>\n",
       "      <th>F1 Score</th>\n",
       "    </tr>\n",
       "  </thead>\n",
       "  <tbody>\n",
       "    <tr>\n",
       "      <th>0</th>\n",
       "      <td>LogisticRegression()</td>\n",
       "      <td>59.51</td>\n",
       "      <td>0.60</td>\n",
       "    </tr>\n",
       "    <tr>\n",
       "      <th>1</th>\n",
       "      <td>DecisionTreeClassifier()</td>\n",
       "      <td>81.64</td>\n",
       "      <td>0.80</td>\n",
       "    </tr>\n",
       "    <tr>\n",
       "      <th>2</th>\n",
       "      <td>SVC()</td>\n",
       "      <td>44.91</td>\n",
       "      <td>0.62</td>\n",
       "    </tr>\n",
       "    <tr>\n",
       "      <th>3</th>\n",
       "      <td>KNeighborsClassifier()</td>\n",
       "      <td>69.03</td>\n",
       "      <td>0.70</td>\n",
       "    </tr>\n",
       "    <tr>\n",
       "      <th>4</th>\n",
       "      <td>XGBClassifier(base_score=0.5, booster='gbtree'...</td>\n",
       "      <td>87.61</td>\n",
       "      <td>0.86</td>\n",
       "    </tr>\n",
       "    <tr>\n",
       "      <th>5</th>\n",
       "      <td>SGDClassifier()</td>\n",
       "      <td>54.65</td>\n",
       "      <td>0.62</td>\n",
       "    </tr>\n",
       "    <tr>\n",
       "      <th>6</th>\n",
       "      <td>(DecisionTreeClassifier(random_state=135439159...</td>\n",
       "      <td>87.17</td>\n",
       "      <td>0.85</td>\n",
       "    </tr>\n",
       "  </tbody>\n",
       "</table>\n",
       "</div>"
      ],
      "text/plain": [
       "                                               Model  Accuracy  F1 Score\n",
       "0                               LogisticRegression()     59.51      0.60\n",
       "1                           DecisionTreeClassifier()     81.64      0.80\n",
       "2                                              SVC()     44.91      0.62\n",
       "3                             KNeighborsClassifier()     69.03      0.70\n",
       "4  XGBClassifier(base_score=0.5, booster='gbtree'...     87.61      0.86\n",
       "5                                    SGDClassifier()     54.65      0.62\n",
       "6  (DecisionTreeClassifier(random_state=135439159...     87.17      0.85"
      ]
     },
     "execution_count": 160,
     "metadata": {},
     "output_type": "execute_result"
    }
   ],
   "source": [
    "pd.DataFrame({'Model':model,'Accuracy':accuracy,'F1 Score':f1})"
   ]
  },
  {
   "cell_type": "markdown",
   "id": "de423877",
   "metadata": {},
   "source": [
    "# Cross Validation"
   ]
  },
  {
   "cell_type": "code",
   "execution_count": 161,
   "id": "ec10a072",
   "metadata": {},
   "outputs": [],
   "source": [
    "from sklearn.model_selection import cross_val_score"
   ]
  },
  {
   "cell_type": "code",
   "execution_count": 162,
   "id": "804dfa22",
   "metadata": {},
   "outputs": [
    {
     "data": {
      "text/html": [
       "<div>\n",
       "<style scoped>\n",
       "    .dataframe tbody tr th:only-of-type {\n",
       "        vertical-align: middle;\n",
       "    }\n",
       "\n",
       "    .dataframe tbody tr th {\n",
       "        vertical-align: top;\n",
       "    }\n",
       "\n",
       "    .dataframe thead th {\n",
       "        text-align: right;\n",
       "    }\n",
       "</style>\n",
       "<table border=\"1\" class=\"dataframe\">\n",
       "  <thead>\n",
       "    <tr style=\"text-align: right;\">\n",
       "      <th></th>\n",
       "      <th>Model</th>\n",
       "      <th>Accuracy</th>\n",
       "      <th>Cross Validation</th>\n",
       "      <th>Difference</th>\n",
       "    </tr>\n",
       "  </thead>\n",
       "  <tbody>\n",
       "    <tr>\n",
       "      <th>0</th>\n",
       "      <td>LogisticRegression()</td>\n",
       "      <td>59.513274</td>\n",
       "      <td>56.906119</td>\n",
       "      <td>2.607156</td>\n",
       "    </tr>\n",
       "    <tr>\n",
       "      <th>1</th>\n",
       "      <td>DecisionTreeClassifier()</td>\n",
       "      <td>81.637168</td>\n",
       "      <td>80.622429</td>\n",
       "      <td>0.882289</td>\n",
       "    </tr>\n",
       "    <tr>\n",
       "      <th>2</th>\n",
       "      <td>SVC()</td>\n",
       "      <td>44.911504</td>\n",
       "      <td>52.257376</td>\n",
       "      <td>-7.345872</td>\n",
       "    </tr>\n",
       "    <tr>\n",
       "      <th>3</th>\n",
       "      <td>KNeighborsClassifier()</td>\n",
       "      <td>69.026549</td>\n",
       "      <td>70.120129</td>\n",
       "      <td>-1.093581</td>\n",
       "    </tr>\n",
       "    <tr>\n",
       "      <th>4</th>\n",
       "      <td>XGBClassifier(base_score=0.5, booster='gbtree'...</td>\n",
       "      <td>87.610619</td>\n",
       "      <td>83.942708</td>\n",
       "      <td>3.667912</td>\n",
       "    </tr>\n",
       "    <tr>\n",
       "      <th>5</th>\n",
       "      <td>SGDClassifier()</td>\n",
       "      <td>54.646018</td>\n",
       "      <td>52.916988</td>\n",
       "      <td>1.391964</td>\n",
       "    </tr>\n",
       "    <tr>\n",
       "      <th>6</th>\n",
       "      <td>(DecisionTreeClassifier(random_state=135439159...</td>\n",
       "      <td>87.168142</td>\n",
       "      <td>84.604959</td>\n",
       "      <td>3.424990</td>\n",
       "    </tr>\n",
       "  </tbody>\n",
       "</table>\n",
       "</div>"
      ],
      "text/plain": [
       "                                               Model   Accuracy  \\\n",
       "0                               LogisticRegression()  59.513274   \n",
       "1                           DecisionTreeClassifier()  81.637168   \n",
       "2                                              SVC()  44.911504   \n",
       "3                             KNeighborsClassifier()  69.026549   \n",
       "4  XGBClassifier(base_score=0.5, booster='gbtree'...  87.610619   \n",
       "5                                    SGDClassifier()  54.646018   \n",
       "6  (DecisionTreeClassifier(random_state=135439159...  87.168142   \n",
       "\n",
       "   Cross Validation  Difference  \n",
       "0         56.906119    2.607156  \n",
       "1         80.622429    0.882289  \n",
       "2         52.257376   -7.345872  \n",
       "3         70.120129   -1.093581  \n",
       "4         83.942708    3.667912  \n",
       "5         52.916988    1.391964  \n",
       "6         84.604959    3.424990  "
      ]
     },
     "execution_count": 162,
     "metadata": {},
     "output_type": "execute_result"
    }
   ],
   "source": [
    "acc=[]\n",
    "cross=[]\n",
    "diff=[]\n",
    "for i in model:\n",
    "    acc.append(accuracy_score(y_test,i.predict(x_test))*100)\n",
    "    cross.append(cross_val_score(i,x,y,cv=5, scoring='accuracy').mean()*100)\n",
    "    diff.append((accuracy_score(y_test,i.predict(x_test))*100)- (cross_val_score(i,x,y,cv=5, scoring='accuracy').mean()*100))\n",
    "    \n",
    "pd.DataFrame({'Model':model,'Accuracy':acc,'Cross Validation':cross,'Difference':diff})"
   ]
  },
  {
   "cell_type": "code",
   "execution_count": 164,
   "id": "db147b4a",
   "metadata": {},
   "outputs": [
    {
     "data": {
      "text/html": [
       "<div>\n",
       "<style scoped>\n",
       "    .dataframe tbody tr th:only-of-type {\n",
       "        vertical-align: middle;\n",
       "    }\n",
       "\n",
       "    .dataframe tbody tr th {\n",
       "        vertical-align: top;\n",
       "    }\n",
       "\n",
       "    .dataframe thead th {\n",
       "        text-align: right;\n",
       "    }\n",
       "</style>\n",
       "<table border=\"1\" class=\"dataframe\">\n",
       "  <thead>\n",
       "    <tr style=\"text-align: right;\">\n",
       "      <th></th>\n",
       "      <th>Model</th>\n",
       "      <th>F1</th>\n",
       "      <th>Cross Validation</th>\n",
       "    </tr>\n",
       "  </thead>\n",
       "  <tbody>\n",
       "    <tr>\n",
       "      <th>0</th>\n",
       "      <td>LogisticRegression()</td>\n",
       "      <td>0.60</td>\n",
       "      <td>82.315735</td>\n",
       "    </tr>\n",
       "    <tr>\n",
       "      <th>1</th>\n",
       "      <td>DecisionTreeClassifier()</td>\n",
       "      <td>0.80</td>\n",
       "      <td>81.157241</td>\n",
       "    </tr>\n",
       "    <tr>\n",
       "      <th>2</th>\n",
       "      <td>SVC()</td>\n",
       "      <td>0.62</td>\n",
       "      <td>79.538007</td>\n",
       "    </tr>\n",
       "    <tr>\n",
       "      <th>3</th>\n",
       "      <td>KNeighborsClassifier()</td>\n",
       "      <td>0.70</td>\n",
       "      <td>82.103310</td>\n",
       "    </tr>\n",
       "    <tr>\n",
       "      <th>4</th>\n",
       "      <td>XGBClassifier(base_score=0.5, booster='gbtree'...</td>\n",
       "      <td>0.86</td>\n",
       "      <td>82.104505</td>\n",
       "    </tr>\n",
       "    <tr>\n",
       "      <th>5</th>\n",
       "      <td>SGDClassifier()</td>\n",
       "      <td>0.46</td>\n",
       "      <td>82.816620</td>\n",
       "    </tr>\n",
       "    <tr>\n",
       "      <th>6</th>\n",
       "      <td>(DecisionTreeClassifier(random_state=498771478...</td>\n",
       "      <td>0.85</td>\n",
       "      <td>82.010894</td>\n",
       "    </tr>\n",
       "  </tbody>\n",
       "</table>\n",
       "</div>"
      ],
      "text/plain": [
       "                                               Model    F1  Cross Validation\n",
       "0                               LogisticRegression()  0.60         82.315735\n",
       "1                           DecisionTreeClassifier()  0.80         81.157241\n",
       "2                                              SVC()  0.62         79.538007\n",
       "3                             KNeighborsClassifier()  0.70         82.103310\n",
       "4  XGBClassifier(base_score=0.5, booster='gbtree'...  0.86         82.104505\n",
       "5                                    SGDClassifier()  0.46         82.816620\n",
       "6  (DecisionTreeClassifier(random_state=498771478...  0.85         82.010894"
      ]
     },
     "execution_count": 164,
     "metadata": {},
     "output_type": "execute_result"
    }
   ],
   "source": [
    "accuracy=[]\n",
    "f1=[]\n",
    "cross=[]\n",
    "\n",
    "for m in model:\n",
    "    m.fit(x_train,y_train)\n",
    "    \n",
    "    pred= m.predict(x_test)\n",
    "  \n",
    "    f1.append(round(f1_score(y_test,pred), 2))\n",
    "    cross.append(cross_val_score(i,x,y,cv=5, scoring='f1').mean()*100)\n",
    "    \n",
    "pd.DataFrame({'Model':model,'F1':f1,'Cross Validation':cross})"
   ]
  },
  {
   "cell_type": "markdown",
   "id": "8abfdab5",
   "metadata": {},
   "source": [
    "## Extreme Gradient BoostingClassifier()  Hypertuning"
   ]
  },
  {
   "cell_type": "code",
   "execution_count": 166,
   "id": "0a3071bb",
   "metadata": {},
   "outputs": [],
   "source": [
    "# Lets try to hypertune this algo.\n"
   ]
  },
  {
   "cell_type": "code",
   "execution_count": 167,
   "id": "19ebc7de",
   "metadata": {},
   "outputs": [],
   "source": [
    "from sklearn.model_selection import GridSearchCV"
   ]
  },
  {
   "cell_type": "code",
   "execution_count": 168,
   "id": "fc9c89a7",
   "metadata": {},
   "outputs": [],
   "source": [
    "params= {\"learning_rate\"    : [0.01,.05,.1,.2,.3,.5 ] ,\n",
    "         'n_estimators':[5,50,100,200,300,400],\n",
    "         \"max_depth\"        : [ 3, 4, 5, 6, 8]\n",
    "          }"
   ]
  },
  {
   "cell_type": "code",
   "execution_count": 169,
   "id": "53cd2757",
   "metadata": {},
   "outputs": [
    {
     "data": {
      "text/plain": [
       "GridSearchCV(cv=5,\n",
       "             estimator=XGBClassifier(base_score=0.5, booster='gbtree',\n",
       "                                     callbacks=None, colsample_bylevel=1,\n",
       "                                     colsample_bynode=1, colsample_bytree=1,\n",
       "                                     early_stopping_rounds=None,\n",
       "                                     enable_categorical=False, eval_metric=None,\n",
       "                                     gamma=0, gpu_id=-1,\n",
       "                                     grow_policy='depthwise',\n",
       "                                     importance_type=None,\n",
       "                                     interaction_constraints='',\n",
       "                                     learning_rate=0.300000012, max_bin=256,\n",
       "                                     max_ca...elta_step=0,\n",
       "                                     max_depth=6, max_leaves=0,\n",
       "                                     min_child_weight=1, missing=nan,\n",
       "                                     monotone_constraints='()',\n",
       "                                     n_estimators=100, n_jobs=0,\n",
       "                                     num_parallel_tree=1, predictor='auto',\n",
       "                                     random_state=0, reg_alpha=0, reg_lambda=1, ...),\n",
       "             n_jobs=-1,\n",
       "             param_grid={'learning_rate': [0.01, 0.05, 0.1, 0.2, 0.3, 0.5],\n",
       "                         'max_depth': [3, 4, 5, 6, 8],\n",
       "                         'n_estimators': [5, 50, 100, 200, 300, 400]},\n",
       "             scoring='accuracy')"
      ]
     },
     "execution_count": 169,
     "metadata": {},
     "output_type": "execute_result"
    }
   ],
   "source": [
    "GCV= GridSearchCV(XGB_model,params,cv=5,scoring='accuracy', n_jobs=-1)\n",
    "GCV.fit(x_train,y_train)"
   ]
  },
  {
   "cell_type": "code",
   "execution_count": 152,
   "id": "d73f6a47",
   "metadata": {},
   "outputs": [
    {
     "data": {
      "text/plain": [
       "{'learning_rate': 0.2, 'max_depth': 8, 'n_estimators': 200}"
      ]
     },
     "execution_count": 152,
     "metadata": {},
     "output_type": "execute_result"
    }
   ],
   "source": [
    "GCV.best_params_"
   ]
  },
  {
   "cell_type": "code",
   "execution_count": 153,
   "id": "6225ede6",
   "metadata": {},
   "outputs": [
    {
     "data": {
      "text/plain": [
       "0.8672566371681416"
      ]
     },
     "execution_count": 153,
     "metadata": {},
     "output_type": "execute_result"
    }
   ],
   "source": [
    "pred=GCV.best_estimator_.predict(x_test)\n",
    "accuracy_score(y_test,pred)"
   ]
  },
  {
   "cell_type": "raw",
   "id": "b128db04",
   "metadata": {},
   "source": [
    "Default Algo is doing good"
   ]
  },
  {
   "cell_type": "markdown",
   "id": "deb4b35a",
   "metadata": {},
   "source": [
    "# Confusion Matrix"
   ]
  },
  {
   "cell_type": "code",
   "execution_count": 154,
   "id": "2917f9c8",
   "metadata": {},
   "outputs": [
    {
     "data": {
      "text/plain": [
       "<AxesSubplot:>"
      ]
     },
     "execution_count": 154,
     "metadata": {},
     "output_type": "execute_result"
    },
    {
     "data": {
      "image/png": "[encoded data removed]",
      "text/plain": [
       "<Figure size 432x288 with 2 Axes>"
      ]
     },
     "metadata": {
      "needs_background": "light"
     },
     "output_type": "display_data"
    }
   ],
   "source": [
    "from sklearn.metrics import confusion_matrix\n",
    "confusion_matrix(y_test,pred)\n",
    "sns.heatmap(confusion_matrix(y_test,pred),annot=True, fmt='d')"
   ]
  },
  {
   "cell_type": "markdown",
   "id": "05afdcbf",
   "metadata": {},
   "source": [
    "# AUC ROC plot"
   ]
  },
  {
   "cell_type": "code",
   "execution_count": 155,
   "id": "81784a38",
   "metadata": {},
   "outputs": [],
   "source": [
    "from sklearn.metrics import roc_auc_score,roc_curve,plot_roc_curve"
   ]
  },
  {
   "cell_type": "code",
   "execution_count": 156,
   "id": "b64de0f7",
   "metadata": {},
   "outputs": [
    {
     "data": {
      "text/plain": [
       "Text(0.5, 1.0, 'ROC AUC Plot')"
      ]
     },
     "execution_count": 156,
     "metadata": {},
     "output_type": "execute_result"
    },
    {
     "data": {
      "image/png": "[encoded data removed]",
      "text/plain": [
       "<Figure size 432x288 with 1 Axes>"
      ]
     },
     "metadata": {
      "needs_background": "light"
     },
     "output_type": "display_data"
    }
   ],
   "source": [
    "plot_roc_curve(XGB_model,x_test,y_test)\n",
    "plt.title('ROC AUC Plot')"
   ]
  },
  {
   "cell_type": "raw",
   "id": "db6485bf",
   "metadata": {},
   "source": [
    "AUC score is 97%"
   ]
  },
  {
   "cell_type": "markdown",
   "id": "9a3743a8",
   "metadata": {},
   "source": [
    "# Saving the Model"
   ]
  },
  {
   "cell_type": "code",
   "execution_count": 157,
   "id": "6d8cc63a",
   "metadata": {},
   "outputs": [],
   "source": [
    "import pickle\n",
    "pickle.dump(GCV,open(\"final-output.pkl\",\"wb\"))"
   ]
  }
 ],
 "metadata": {
  "kernelspec": {
   "display_name": "Python 3 (ipykernel)",
   "language": "python",
   "name": "python3"
  },
  "language_info": {
   "codemirror_mode": {
    "name": "ipython",
    "version": 3
   },
   "file_extension": ".py",
   "mimetype": "text/x-python",
   "name": "python",
   "nbconvert_exporter": "python",
   "pygments_lexer": "ipython3",
   "version": "3.9.12"
  }
 },
 "nbformat": 4,
 "nbformat_minor": 5
}
